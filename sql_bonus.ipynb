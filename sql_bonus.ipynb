{
 "cells": [
  {
   "cell_type": "code",
   "execution_count": null,
   "id": "3e2896c1",
   "metadata": {},
   "outputs": [],
   "source": [
    "#install these dependencies, if needed\n",
    "# !pip install psycopg\n",
    "# !pip install sqlalchemy\n",
    "# !pip install psycopg2-binary"
   ]
  },
  {
   "cell_type": "code",
   "execution_count": 1,
   "id": "29ea3ac7",
   "metadata": {},
   "outputs": [],
   "source": [
    "#import pandas\n",
    "import pandas as pd"
   ]
  },
  {
   "cell_type": "code",
   "execution_count": 2,
   "id": "51f711fb",
   "metadata": {},
   "outputs": [],
   "source": [
    "#create sqlalchemy engine\n",
    "from sqlalchemy import create_engine\n",
    "\n",
    "dialect_driver = \"postgresql\"\n",
    "user = \"postgres\"\n",
    "pw = \"insertPW\"\n",
    "host = \"localhost\"\n",
    "port = 5432\n",
    "default_db = \"employee_sql\"\n",
    "\n",
    "engine = create_engine(f\"{dialect_driver}://{user}:{pw}@{host}:{port}/{default_db}\")"
   ]
  },
  {
   "cell_type": "code",
   "execution_count": 3,
   "id": "e643a1b6",
   "metadata": {},
   "outputs": [],
   "source": [
    "#write query to pull appropriate tables needed for analysis\n",
    "sql_query = \"SELECT employee_data.emp_number, employee_data.emp_title_id, salary_table.salary, job_title.title_id, job_title.title FROM employee_data INNER JOIN salary_table ON employee_data.emp_number=salary_table.emp_number INNER JOIN job_title ON employee_data.emp_title_id=job_title.title_id; \"\n",
    "\n",
    "#create lists for dataframe\n",
    "employee_id_list = []\n",
    "employee_title_id_list = []\n",
    "employee_salary_list = []\n",
    "employee_title_list = []\n",
    "\n",
    "#write for loop to append data to lists\n",
    "try:\n",
    "    connection = engine.connect()\n",
    "    results = connection.execute(sql_query)\n",
    "    for row in results:\n",
    "        employee_id = row.emp_number\n",
    "        employee_id_list.append(employee_id),\n",
    "        employee_title_id = row.emp_title_id\n",
    "        employee_title_id_list.append(employee_title_id),\n",
    "        employee_salary = row.salary\n",
    "        employee_salary_list.append(employee_salary),\n",
    "        job_title = row.title\n",
    "        employee_title_list.append(job_title)\n",
    "        #print(row.emp_number, row.emp_title_id)\n",
    "except Exception as e:\n",
    "    print(\"something broke... ERROR:\", e)\n",
    "finally:\n",
    "    connection.close()\n",
    "    engine.dispose()"
   ]
  },
  {
   "cell_type": "code",
   "execution_count": 4,
   "id": "3c79a642",
   "metadata": {},
   "outputs": [
    {
     "data": {
      "text/plain": [
       "300024"
      ]
     },
     "execution_count": 4,
     "metadata": {},
     "output_type": "execute_result"
    }
   ],
   "source": [
    "#test to see if for loop worked, check length\n",
    "len(employee_salary_list)"
   ]
  },
  {
   "cell_type": "code",
   "execution_count": 5,
   "id": "e8c830cc",
   "metadata": {},
   "outputs": [],
   "source": [
    "#create dictionary \n",
    "employee_dict = {'Employee ID': employee_id_list, 'Title': employee_title_list, 'Salary': employee_salary_list}\n",
    "\n",
    "#then convert to dataframe\n",
    "employee_df = pd.DataFrame(employee_dict)"
   ]
  },
  {
   "cell_type": "code",
   "execution_count": 26,
   "id": "9019e59e",
   "metadata": {},
   "outputs": [
    {
     "data": {
      "text/plain": [
       "Index(['Employee ID', 'Title', 'Salary'], dtype='object')"
      ]
     },
     "execution_count": 26,
     "metadata": {},
     "output_type": "execute_result"
    }
   ],
   "source": [
    "#view the dataframe\n",
    "employee_df.columns"
   ]
  },
  {
   "cell_type": "code",
   "execution_count": 40,
   "id": "c33ee52b",
   "metadata": {},
   "outputs": [
    {
     "data": {
      "text/plain": [
       "array([[<AxesSubplot:title={'center':'Salary'}>]], dtype=object)"
      ]
     },
     "execution_count": 40,
     "metadata": {},
     "output_type": "execute_result"
    },
    {
     "data": {
      "image/png": "[encoded data removed]",
      "text/plain": [
       "<Figure size 432x288 with 1 Axes>"
      ]
     },
     "metadata": {
      "needs_background": "light"
     },
     "output_type": "display_data"
    }
   ],
   "source": [
    "#Create a histogram to visualize the most common salary ranges for employees.\n",
    "employee_df.hist(column='Salary', bins = 5)"
   ]
  },
  {
   "cell_type": "code",
   "execution_count": 33,
   "id": "12754044",
   "metadata": {},
   "outputs": [],
   "source": [
    "#make groupby statement to perform avg aggregate function on it\n",
    "avg_salary = employee_df.groupby(['Title']).mean().sort_values(by = 'Salary', ascending = False)\n",
    "\n",
    "#view\n",
    "avg_salary"
   ]
  },
  {
   "cell_type": "code",
   "execution_count": 38,
   "id": "b513a0f1",
   "metadata": {},
   "outputs": [
    {
     "data": {
      "text/plain": [
       "<AxesSubplot:xlabel='Title'>"
      ]
     },
     "execution_count": 38,
     "metadata": {},
     "output_type": "execute_result"
    },
    {
     "data": {
      "image/png": "[encoded data removed]",
      "text/plain": [
       "<Figure size 432x288 with 1 Axes>"
      ]
     },
     "metadata": {
      "needs_background": "light"
     },
     "output_type": "display_data"
    }
   ],
   "source": [
    "#plot\n",
    "avg_salary.plot.bar(y = 'Salary')"
   ]
  },
  {
   "cell_type": "code",
   "execution_count": null,
   "id": "3f4232ab",
   "metadata": {},
   "outputs": [],
   "source": [
    "####_______CODE_GRAVEYARD_______####\n",
    "\n",
    "# from sqlalchemy import create_engine\n",
    "# engine = create_engine('postgresql://localhost:5432/employee_sql')\n",
    "# connection = engine.connect()\n",
    "\n",
    "# _______\n",
    "#employee_df = pd.DataFrame(employee_id_list, employee_title_list, employee_salary_list).reset_index()\n",
    "\n",
    "#Create a bar chart of average salary by title.\n",
    "\n",
    "#employee_df.plot.bar(x = 'Title', y = 'Salary', rot = '0')\n"
   ]
  }
 ],
 "metadata": {
  "kernelspec": {
   "display_name": "Python [conda env:PythonData38] *",
   "language": "python",
   "name": "conda-env-PythonData38-py"
  },
  "language_info": {
   "codemirror_mode": {
    "name": "ipython",
    "version": 3
   },
   "file_extension": ".py",
   "mimetype": "text/x-python",
   "name": "python",
   "nbconvert_exporter": "python",
   "pygments_lexer": "ipython3",
   "version": "3.8.13"
  }
 },
 "nbformat": 4,
 "nbformat_minor": 5
}
